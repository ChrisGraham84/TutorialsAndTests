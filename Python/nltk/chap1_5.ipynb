{
 "cells": [
  {
   "cell_type": "markdown",
   "metadata": {},
   "source": [
    "# 5 Automatic Natural Language Understanding"
   ]
  },
  {
   "cell_type": "markdown",
   "metadata": {},
   "source": [
    "## Word sense diambiguation\n",
    "In word sense disambiguation we want to work out which sense of a word was intented in a given context. Consider the ambiguous words *server* and *dish*:\n",
    "- *serve*: help with food or drinkl hold an officel put ball into play\n",
    "- *dish*: plate; course of a meal; communication device\n",
    "\n",
    "disambiguation of *by*\n",
    "\n",
    "- the lost children were found by the *searchers* (agentive)\n",
    "- the lost children were found by the *mountain* (locative)\n",
    "- the lost children were found by the *afternoon* (temporal)"
   ]
  },
  {
   "cell_type": "markdown",
   "metadata": {},
   "source": [
    "## Pronoun Resolution\n",
    "\n",
    "### A deeper kind of language understanding is to work out \"who did what to whom\" - i.e., to detect the subjects and oobjects of verbs. In the sentence *the thieves stole the painting* it is easy to tell who performed the stealing action. \n",
    "\n",
    "- The thieves stole the paintings. They were subsequently *sold* \n",
    "- The thieves stole the paintings. They were subsequently *found*\n",
    "- The thieves stole the paintings. They were subsequently *caught*\n",
    "\n",
    "Answers involved the **antecendent** of the pronoun *they*, either thieves or paintings. Compututational techniques for tackling this problem include **anaphora resolution** - identifying what a pronoun or noun phrase refers to - and **semantic role labeling** - identifying how a noun phrase relates to th verb (as agent, patient, instrument, and so on)"
   ]
  },
  {
   "cell_type": "markdown",
   "metadata": {},
   "source": []
  }
 ],
 "metadata": {
  "language_info": {
   "name": "python"
  }
 },
 "nbformat": 4,
 "nbformat_minor": 2
}
